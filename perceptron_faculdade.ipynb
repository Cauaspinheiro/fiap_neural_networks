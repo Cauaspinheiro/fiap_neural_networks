{
  "cells": [
    {
      "attachments": {},
      "cell_type": "markdown",
      "metadata": {
        "id": "rAFzbrggx1c2"
      },
      "source": [
        "> FIAP - Redes Neurais Artificiais, Deep Learning e Algoritmos Genéticos\n",
        "\n",
        "# Aula 03 - Trabalhando com Perceptron\n",
        "\n",
        "## Implementação de um Perceptron simples\n"
      ]
    },
    {
      "cell_type": "code",
      "execution_count": 9,
      "metadata": {
        "id": "LN4r4U_Cx1dA"
      },
      "outputs": [],
      "source": [
        "# Definir a função de agregação de informação (soma poderada)\n",
        "\n",
        "from functools import reduce\n",
        "\n",
        "\n",
        "def sum_data(data: tuple[dict[str, float]]):\n",
        "    return reduce(lambda total, current: total + (current['value'] * current['weight']), data, 0)\n",
        "\n",
        "# Tests\n",
        "\n",
        "\n",
        "total_sum = sum_data([{'value': 1, 'weight': 0.10},\n",
        "                     {'value': 10, 'weight': 0.05}])\n",
        "\n",
        "assert total_sum == 0.6, \"The sum should equal 0.6\"\n"
      ]
    },
    {
      "cell_type": "code",
      "execution_count": 10,
      "metadata": {
        "id": "fqsLOvR_x1dG"
      },
      "outputs": [],
      "source": [
        "# Definir a função de ativação: FUNÇÃO DEGRAU\n",
        "\n",
        "def threshold_function(total_sum: float, bias: float):\n",
        "    threshold = total_sum + bias\n",
        "\n",
        "    if threshold < 0:\n",
        "        return 0\n",
        "\n",
        "    return 1\n",
        "\n",
        "# Tests\n",
        "\n",
        "\n",
        "assert threshold_function(0.6, bias=0) == 1, \"Should be 1 = neuron ON\"\n",
        "assert threshold_function(0.2, bias=-1) == 0, \"Should be 0 = neuron OFF\"\n"
      ]
    },
    {
      "cell_type": "markdown",
      "metadata": {
        "id": "0tje9NEcx1dS"
      },
      "source": [
        "## Casos de aplicação do perceptron\n",
        "\n",
        "Vamos analisar a base `escolha_faculdade.csv` com exemplos de faculdades identificadas pelo ID e com um conjunto de variáveis que as descrevem. As variáveis são:\n",
        "\n",
        "| Nome                 | Descrição                                                                           | Possíveis valores                                                                                 | Peso  |\n",
        "| -------------------- | ----------------------------------------------------------------------------------- | ------------------------------------------------------------------------------------------------- | ----- |\n",
        "| reconhecida_MEC      | A faculdade é reconhecida pelo MEC?                                                 | 1 = Sim; 0 = Não                                                                                  | 0.1   |\n",
        "| facilidade_pagamento | A faculdade apresenta facilidades para pagamento?                                   | 1 = Sim; 0 = Não                                                                                  | 0.05  |\n",
        "| flexibilidade_ensino | O quão flexível é o método de ensino?                                               | 1 = Somente presencial; 2= Somente EAD; 3 = Misto                                                 | 0.05  |\n",
        "| entrada_mercado      | O que a faculdade oferece para facilitar a entrada do aluno no mercado de trabalho? | 0 = Sem suporte; 1 = Feiras; 2 = Feiras e estágios; 3 = Feiras, estágios e convênios com empresas | 0.2   |\n",
        "| score_infraestrutura | Qual nota de 0 a 100 a escola possui para sua infraestrutura?                       | De 0 a 100                                                                                        | 0.002 |\n",
        "| empregabilidade      | Qual a porcentagem de alunos ingressos empregados?                                  | De 0 a 1                                                                                          | 0.30  |\n",
        "| acesso_facil         | A localização possui fácil acesso?                                                  | 1 = Sim; 0 = Não                                                                                  | 0.05  |\n"
      ]
    },
    {
      "cell_type": "code",
      "execution_count": 11,
      "metadata": {
        "id": "j4eSjwmXx1dW"
      },
      "outputs": [],
      "source": [
        "# Pesos já fornecidos\n",
        "pesos = {\n",
        "    'reconhecida_MEC': 0.1,\n",
        "    'facilidade_pagamento': 0.05,\n",
        "    'flexibilidade_ensino': 0.05,\n",
        "    'entrada_mercado': 0.2,\n",
        "    'score_infraestrutura': 0.002,\n",
        "    'empregabilidade': 0.3,\n",
        "    'acesso_facil': 0.05\n",
        "}\n"
      ]
    },
    {
      "attachments": {},
      "cell_type": "markdown",
      "metadata": {},
      "source": [
        "Demonstração básica da nossa base de dados: `escolha_faculdade.csv`\n"
      ]
    },
    {
      "cell_type": "code",
      "execution_count": 12,
      "metadata": {
        "id": "nwF3sxTfx1dY"
      },
      "outputs": [
        {
          "data": {
            "text/html": [
              "<div>\n",
              "<style scoped>\n",
              "    .dataframe tbody tr th:only-of-type {\n",
              "        vertical-align: middle;\n",
              "    }\n",
              "\n",
              "    .dataframe tbody tr th {\n",
              "        vertical-align: top;\n",
              "    }\n",
              "\n",
              "    .dataframe thead th {\n",
              "        text-align: right;\n",
              "    }\n",
              "</style>\n",
              "<table border=\"1\" class=\"dataframe\">\n",
              "  <thead>\n",
              "    <tr style=\"text-align: right;\">\n",
              "      <th></th>\n",
              "      <th>reconhecida_MEC</th>\n",
              "      <th>facilidade_pagamento</th>\n",
              "      <th>flexibilidade_ensino</th>\n",
              "      <th>entrada_mercado</th>\n",
              "      <th>score_infraestrutura</th>\n",
              "      <th>empregabilidade</th>\n",
              "      <th>acesso_facil</th>\n",
              "    </tr>\n",
              "    <tr>\n",
              "      <th>ID</th>\n",
              "      <th></th>\n",
              "      <th></th>\n",
              "      <th></th>\n",
              "      <th></th>\n",
              "      <th></th>\n",
              "      <th></th>\n",
              "      <th></th>\n",
              "    </tr>\n",
              "  </thead>\n",
              "  <tbody>\n",
              "    <tr>\n",
              "      <th>1</th>\n",
              "      <td>1</td>\n",
              "      <td>1</td>\n",
              "      <td>2</td>\n",
              "      <td>1</td>\n",
              "      <td>70</td>\n",
              "      <td>0.60</td>\n",
              "      <td>1</td>\n",
              "    </tr>\n",
              "    <tr>\n",
              "      <th>150</th>\n",
              "      <td>1</td>\n",
              "      <td>1</td>\n",
              "      <td>1</td>\n",
              "      <td>2</td>\n",
              "      <td>60</td>\n",
              "      <td>0.50</td>\n",
              "      <td>0</td>\n",
              "    </tr>\n",
              "    <tr>\n",
              "      <th>200</th>\n",
              "      <td>1</td>\n",
              "      <td>1</td>\n",
              "      <td>1</td>\n",
              "      <td>1</td>\n",
              "      <td>40</td>\n",
              "      <td>0.20</td>\n",
              "      <td>0</td>\n",
              "    </tr>\n",
              "    <tr>\n",
              "      <th>172</th>\n",
              "      <td>1</td>\n",
              "      <td>0</td>\n",
              "      <td>1</td>\n",
              "      <td>3</td>\n",
              "      <td>20</td>\n",
              "      <td>0.80</td>\n",
              "      <td>1</td>\n",
              "    </tr>\n",
              "    <tr>\n",
              "      <th>2</th>\n",
              "      <td>0</td>\n",
              "      <td>1</td>\n",
              "      <td>3</td>\n",
              "      <td>1</td>\n",
              "      <td>50</td>\n",
              "      <td>0.15</td>\n",
              "      <td>0</td>\n",
              "    </tr>\n",
              "  </tbody>\n",
              "</table>\n",
              "</div>"
            ],
            "text/plain": [
              "     reconhecida_MEC  facilidade_pagamento  flexibilidade_ensino   \n",
              "ID                                                                 \n",
              "1                  1                     1                     2  \\\n",
              "150                1                     1                     1   \n",
              "200                1                     1                     1   \n",
              "172                1                     0                     1   \n",
              "2                  0                     1                     3   \n",
              "\n",
              "     entrada_mercado  score_infraestrutura  empregabilidade  acesso_facil  \n",
              "ID                                                                         \n",
              "1                  1                    70             0.60             1  \n",
              "150                2                    60             0.50             0  \n",
              "200                1                    40             0.20             0  \n",
              "172                3                    20             0.80             1  \n",
              "2                  1                    50             0.15             0  "
            ]
          },
          "execution_count": 12,
          "metadata": {},
          "output_type": "execute_result"
        }
      ],
      "source": [
        "import pandas as pd\n",
        "\n",
        "df = pd.read_csv(\"data/escolha_faculdade.csv\", index_col=\"ID\")\n",
        "\n",
        "df.head()\n"
      ]
    },
    {
      "attachments": {},
      "cell_type": "markdown",
      "metadata": {},
      "source": [
        "Vamos pegar a base de dados e incluir os pesos e valores formatando como necessário pela nossa função `sum_data`\n"
      ]
    },
    {
      "cell_type": "code",
      "execution_count": 13,
      "metadata": {
        "id": "DHt4l-2Rx1dc"
      },
      "outputs": [],
      "source": [
        "data = []\n",
        "\n",
        "for row in df.iloc:\n",
        "    values_with_weight = []\n",
        "\n",
        "    for column_name, value in row.to_dict().items():\n",
        "        values_with_weight.append({\n",
        "            'column_name': column_name,  # for debug\n",
        "            'value': value,\n",
        "            'weight': pesos[column_name],\n",
        "\n",
        "        })\n",
        "\n",
        "    data.append({'id': row.name, 'data': values_with_weight})\n"
      ]
    },
    {
      "attachments": {},
      "cell_type": "markdown",
      "metadata": {},
      "source": [
        "Agora temos uma lista com todas as linhas da nossa base de dados no formato que precisamos para usar a nossa função `sum_data`\n"
      ]
    },
    {
      "cell_type": "code",
      "execution_count": 14,
      "metadata": {
        "id": "KAwdaIDAx1de"
      },
      "outputs": [
        {
          "data": {
            "text/html": [
              "<div>\n",
              "<style scoped>\n",
              "    .dataframe tbody tr th:only-of-type {\n",
              "        vertical-align: middle;\n",
              "    }\n",
              "\n",
              "    .dataframe tbody tr th {\n",
              "        vertical-align: top;\n",
              "    }\n",
              "\n",
              "    .dataframe thead th {\n",
              "        text-align: right;\n",
              "    }\n",
              "</style>\n",
              "<table border=\"1\" class=\"dataframe\">\n",
              "  <thead>\n",
              "    <tr style=\"text-align: right;\">\n",
              "      <th></th>\n",
              "      <th>column_name</th>\n",
              "      <th>value</th>\n",
              "      <th>weight</th>\n",
              "    </tr>\n",
              "  </thead>\n",
              "  <tbody>\n",
              "    <tr>\n",
              "      <th>0</th>\n",
              "      <td>reconhecida_MEC</td>\n",
              "      <td>1.0</td>\n",
              "      <td>0.100</td>\n",
              "    </tr>\n",
              "    <tr>\n",
              "      <th>1</th>\n",
              "      <td>facilidade_pagamento</td>\n",
              "      <td>1.0</td>\n",
              "      <td>0.050</td>\n",
              "    </tr>\n",
              "    <tr>\n",
              "      <th>2</th>\n",
              "      <td>flexibilidade_ensino</td>\n",
              "      <td>2.0</td>\n",
              "      <td>0.050</td>\n",
              "    </tr>\n",
              "    <tr>\n",
              "      <th>3</th>\n",
              "      <td>entrada_mercado</td>\n",
              "      <td>1.0</td>\n",
              "      <td>0.200</td>\n",
              "    </tr>\n",
              "    <tr>\n",
              "      <th>4</th>\n",
              "      <td>score_infraestrutura</td>\n",
              "      <td>70.0</td>\n",
              "      <td>0.002</td>\n",
              "    </tr>\n",
              "    <tr>\n",
              "      <th>5</th>\n",
              "      <td>empregabilidade</td>\n",
              "      <td>0.6</td>\n",
              "      <td>0.300</td>\n",
              "    </tr>\n",
              "    <tr>\n",
              "      <th>6</th>\n",
              "      <td>acesso_facil</td>\n",
              "      <td>1.0</td>\n",
              "      <td>0.050</td>\n",
              "    </tr>\n",
              "  </tbody>\n",
              "</table>\n",
              "</div>"
            ],
            "text/plain": [
              "            column_name  value  weight\n",
              "0       reconhecida_MEC    1.0   0.100\n",
              "1  facilidade_pagamento    1.0   0.050\n",
              "2  flexibilidade_ensino    2.0   0.050\n",
              "3       entrada_mercado    1.0   0.200\n",
              "4  score_infraestrutura   70.0   0.002\n",
              "5       empregabilidade    0.6   0.300\n",
              "6          acesso_facil    1.0   0.050"
            ]
          },
          "execution_count": 14,
          "metadata": {},
          "output_type": "execute_result"
        }
      ],
      "source": [
        "pd.DataFrame(data[0]['data'])\n"
      ]
    },
    {
      "attachments": {},
      "cell_type": "markdown",
      "metadata": {},
      "source": [
        "Com isso, podemos executar nosso Perceptron:\n"
      ]
    },
    {
      "cell_type": "code",
      "execution_count": 15,
      "metadata": {
        "id": "e2sxlSJ9x1dg",
        "tags": []
      },
      "outputs": [
        {
          "data": {
            "text/html": [
              "<div>\n",
              "<style scoped>\n",
              "    .dataframe tbody tr th:only-of-type {\n",
              "        vertical-align: middle;\n",
              "    }\n",
              "\n",
              "    .dataframe tbody tr th {\n",
              "        vertical-align: top;\n",
              "    }\n",
              "\n",
              "    .dataframe thead th {\n",
              "        text-align: right;\n",
              "    }\n",
              "</style>\n",
              "<table border=\"1\" class=\"dataframe\">\n",
              "  <thead>\n",
              "    <tr style=\"text-align: right;\">\n",
              "      <th></th>\n",
              "      <th>Soma total</th>\n",
              "      <th>bias</th>\n",
              "      <th>f(x)</th>\n",
              "      <th>Neurônio ativo?</th>\n",
              "    </tr>\n",
              "    <tr>\n",
              "      <th>id</th>\n",
              "      <th></th>\n",
              "      <th></th>\n",
              "      <th></th>\n",
              "      <th></th>\n",
              "    </tr>\n",
              "  </thead>\n",
              "  <tbody>\n",
              "    <tr>\n",
              "      <th>1</th>\n",
              "      <td>0.820</td>\n",
              "      <td>-0.75</td>\n",
              "      <td>0.070</td>\n",
              "      <td>1</td>\n",
              "    </tr>\n",
              "    <tr>\n",
              "      <th>150</th>\n",
              "      <td>0.870</td>\n",
              "      <td>-0.75</td>\n",
              "      <td>0.120</td>\n",
              "      <td>1</td>\n",
              "    </tr>\n",
              "    <tr>\n",
              "      <th>200</th>\n",
              "      <td>0.540</td>\n",
              "      <td>-0.75</td>\n",
              "      <td>-0.210</td>\n",
              "      <td>0</td>\n",
              "    </tr>\n",
              "    <tr>\n",
              "      <th>172</th>\n",
              "      <td>1.080</td>\n",
              "      <td>-0.75</td>\n",
              "      <td>0.330</td>\n",
              "      <td>1</td>\n",
              "    </tr>\n",
              "    <tr>\n",
              "      <th>2</th>\n",
              "      <td>0.545</td>\n",
              "      <td>-0.75</td>\n",
              "      <td>-0.205</td>\n",
              "      <td>0</td>\n",
              "    </tr>\n",
              "  </tbody>\n",
              "</table>\n",
              "</div>"
            ],
            "text/plain": [
              "     Soma total  bias   f(x)  Neurônio ativo?\n",
              "id                                           \n",
              "1         0.820 -0.75  0.070                1\n",
              "150       0.870 -0.75  0.120                1\n",
              "200       0.540 -0.75 -0.210                0\n",
              "172       1.080 -0.75  0.330                1\n",
              "2         0.545 -0.75 -0.205                0"
            ]
          },
          "execution_count": 15,
          "metadata": {},
          "output_type": "execute_result"
        }
      ],
      "source": [
        "result = []\n",
        "bias = -0.75\n",
        "\n",
        "for row in data:\n",
        "    total_row_sum = sum_data(row['data'])\n",
        "\n",
        "    neuron_activation = threshold_function(total_row_sum, bias)\n",
        "\n",
        "    result.append({\n",
        "        'id': row['id'],\n",
        "        'Soma total': total_row_sum,\n",
        "        'bias': bias,\n",
        "        'f(x)': total_row_sum + bias,\n",
        "        'Neurônio ativo?': neuron_activation\n",
        "    })\n",
        "\n",
        "result_df = pd.DataFrame(result).set_index('id')\n",
        "\n",
        "result_df\n"
      ]
    },
    {
      "attachments": {},
      "cell_type": "markdown",
      "metadata": {},
      "source": [
        "Com isso, podemos gerar um gráfico mostrando a quantidade de faculdades que são propícias a serem escolhidas.\n"
      ]
    },
    {
      "cell_type": "code",
      "execution_count": 16,
      "metadata": {},
      "outputs": [
        {
          "data": {
            "image/png": "[encoded data removed]",
            "text/plain": [
              "<Figure size 640x480 with 1 Axes>"
            ]
          },
          "metadata": {},
          "output_type": "display_data"
        }
      ],
      "source": [
        "result_plot = result_df['Neurônio ativo?'].value_counts().plot(\n",
        "    kind='bar',\n",
        "    title=\"Número de faculdades recomendadas\",\n",
        "    color=['blue', 'red'],\n",
        "    xlabel='0 = Não recomendada, 1 = Recomendada',\n",
        "    rot=0,\n",
        ")\n"
      ]
    }
  ],
  "metadata": {
    "colab": {
      "provenance": []
    },
    "kernelspec": {
      "display_name": "Python 3",
      "language": "python",
      "name": "python3"
    },
    "language_info": {
      "codemirror_mode": {
        "name": "ipython",
        "version": 3
      },
      "file_extension": ".py",
      "mimetype": "text/x-python",
      "name": "python",
      "nbconvert_exporter": "python",
      "pygments_lexer": "ipython3",
      "version": "3.11.0rc1"
    }
  },
  "nbformat": 4,
  "nbformat_minor": 0
}

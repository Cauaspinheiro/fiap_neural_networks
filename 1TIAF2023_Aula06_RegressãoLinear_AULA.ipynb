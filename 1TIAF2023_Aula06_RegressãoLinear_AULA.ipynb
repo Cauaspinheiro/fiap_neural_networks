{
  "cells": [
    {
      "attachments": {},
      "cell_type": "markdown",
      "metadata": {
        "id": "6D52cuUQmzpb"
      },
      "source": [
        "FIAP - IA & Machine Learning\n",
        "\n",
        "# Aula 09 - Regressão Linear\n",
        "\n",
        "Vamos passar pelo pipeline de ciência de dados, implementando os passos em python e realizando uma Regressão Linear como modelo preditivo.\n",
        "\n",
        "## Pipeline de ciência de dados\n",
        "\n",
        "Relembrando as etapas do processo de ciência de dados:\n",
        "\n",
        "![image.png](https://www.sudeep.co/images/post_images/2018-02-09-Understanding-the-Data-Science-Lifecycle/chart.png)\n",
        "\n",
        "### Entendimento do problema\n",
        "\n",
        "É possível prever a altura dos filhos baseado nas alturas dos pais?\n",
        "\n",
        "### Obtenção dos dados\n",
        "\n",
        "Este conjunto de dados lista as observações individuais de 934 crianças em 205 famílias nas quais Galton (1886) baseou sua tabulação cruzada, mostrando a relação entre as alturas dos pais e de seus filhos.\n",
        "\n",
        "Dados baixados [deste link](https://raw.githubusercontent.com/data-8/materials-fa17/master/lec/galton.csv)\n",
        "\n",
        "Dicionário de dados retirado [daqui](https://vincentarelbundock.github.io/Rdatasets/doc/HistData/GaltonFamilies.html)\n",
        "\n",
        "Os dados são:\n",
        "\n",
        "- `family`: ID de família, um fator com níveis 001-204\n",
        "- `father`: altura do pai\n",
        "- `mother`: altura da mãe\n",
        "- `midparentHeight`: altura parental média, calculada como (pai + 1,08 \\* mãe) / 2\n",
        "- `children`: número de filhos nesta família\n",
        "- `childNum`: número desta criança dentro da família. As crianças são listadas em ordem decrescente de altura para meninos, seguidos por meninas\n",
        "- `gender`: gênero infantil, fator com níveis feminino e masculino\n",
        "- `childHeight`: altura da criança\n",
        "\n",
        "**OBSERVAÇÃO**: os dados das alturas estão em `inches`. Para transformar em `cm`, podemos usar a fórmula: \"1 inch =\n",
        "2.54 centimeters\"\n"
      ]
    },
    {
      "cell_type": "code",
      "execution_count": 316,
      "metadata": {
        "id": "5fR2V_-Ymzpe"
      },
      "outputs": [],
      "source": [
        "# Imports necessários\n",
        "import pandas as pd\n",
        "from sklearn.model_selection import train_test_split\n",
        "from sklearn.linear_model import LinearRegression\n",
        "from sklearn.metrics import mean_squared_error, mean_absolute_error, r2_score"
      ]
    },
    {
      "cell_type": "code",
      "execution_count": 317,
      "metadata": {
        "id": "tZqyZqE8mzpg"
      },
      "outputs": [
        {
          "data": {
            "text/html": [
              "<div>\n",
              "<style scoped>\n",
              "    .dataframe tbody tr th:only-of-type {\n",
              "        vertical-align: middle;\n",
              "    }\n",
              "\n",
              "    .dataframe tbody tr th {\n",
              "        vertical-align: top;\n",
              "    }\n",
              "\n",
              "    .dataframe thead th {\n",
              "        text-align: right;\n",
              "    }\n",
              "</style>\n",
              "<table border=\"1\" class=\"dataframe\">\n",
              "  <thead>\n",
              "    <tr style=\"text-align: right;\">\n",
              "      <th></th>\n",
              "      <th>family</th>\n",
              "      <th>father</th>\n",
              "      <th>mother</th>\n",
              "      <th>midparentHeight</th>\n",
              "      <th>children</th>\n",
              "      <th>childNum</th>\n",
              "      <th>gender</th>\n",
              "      <th>childHeight</th>\n",
              "    </tr>\n",
              "  </thead>\n",
              "  <tbody>\n",
              "    <tr>\n",
              "      <th>0</th>\n",
              "      <td>1</td>\n",
              "      <td>78.5</td>\n",
              "      <td>67.0</td>\n",
              "      <td>75.43</td>\n",
              "      <td>4</td>\n",
              "      <td>1</td>\n",
              "      <td>male</td>\n",
              "      <td>73.2</td>\n",
              "    </tr>\n",
              "    <tr>\n",
              "      <th>1</th>\n",
              "      <td>1</td>\n",
              "      <td>78.5</td>\n",
              "      <td>67.0</td>\n",
              "      <td>75.43</td>\n",
              "      <td>4</td>\n",
              "      <td>2</td>\n",
              "      <td>female</td>\n",
              "      <td>69.2</td>\n",
              "    </tr>\n",
              "    <tr>\n",
              "      <th>2</th>\n",
              "      <td>1</td>\n",
              "      <td>78.5</td>\n",
              "      <td>67.0</td>\n",
              "      <td>75.43</td>\n",
              "      <td>4</td>\n",
              "      <td>3</td>\n",
              "      <td>female</td>\n",
              "      <td>69.0</td>\n",
              "    </tr>\n",
              "    <tr>\n",
              "      <th>3</th>\n",
              "      <td>1</td>\n",
              "      <td>78.5</td>\n",
              "      <td>67.0</td>\n",
              "      <td>75.43</td>\n",
              "      <td>4</td>\n",
              "      <td>4</td>\n",
              "      <td>female</td>\n",
              "      <td>69.0</td>\n",
              "    </tr>\n",
              "    <tr>\n",
              "      <th>4</th>\n",
              "      <td>2</td>\n",
              "      <td>75.5</td>\n",
              "      <td>66.5</td>\n",
              "      <td>73.66</td>\n",
              "      <td>4</td>\n",
              "      <td>1</td>\n",
              "      <td>male</td>\n",
              "      <td>73.5</td>\n",
              "    </tr>\n",
              "  </tbody>\n",
              "</table>\n",
              "</div>"
            ],
            "text/plain": [
              "  family  father  mother  midparentHeight  children  childNum  gender   \n",
              "0      1    78.5    67.0            75.43         4         1    male  \\\n",
              "1      1    78.5    67.0            75.43         4         2  female   \n",
              "2      1    78.5    67.0            75.43         4         3  female   \n",
              "3      1    78.5    67.0            75.43         4         4  female   \n",
              "4      2    75.5    66.5            73.66         4         1    male   \n",
              "\n",
              "   childHeight  \n",
              "0         73.2  \n",
              "1         69.2  \n",
              "2         69.0  \n",
              "3         69.0  \n",
              "4         73.5  "
            ]
          },
          "execution_count": 317,
          "metadata": {},
          "output_type": "execute_result"
        }
      ],
      "source": [
        "df = pd.read_csv(\"data/galton.csv\")\n",
        "df.head(5)"
      ]
    },
    {
      "cell_type": "code",
      "execution_count": 318,
      "metadata": {
        "id": "hkBsGLDLmzph"
      },
      "outputs": [
        {
          "data": {
            "text/plain": [
              "(934, 8)"
            ]
          },
          "execution_count": 318,
          "metadata": {},
          "output_type": "execute_result"
        }
      ],
      "source": [
        "# Quantos dados?\n",
        "df.shape"
      ]
    },
    {
      "cell_type": "code",
      "execution_count": 319,
      "metadata": {
        "id": "jre8ddkWmzpi"
      },
      "outputs": [
        {
          "name": "stdout",
          "output_type": "stream",
          "text": [
            "<class 'pandas.core.frame.DataFrame'>\n",
            "RangeIndex: 934 entries, 0 to 933\n",
            "Data columns (total 8 columns):\n",
            " #   Column           Non-Null Count  Dtype  \n",
            "---  ------           --------------  -----  \n",
            " 0   family           934 non-null    object \n",
            " 1   father           934 non-null    float64\n",
            " 2   mother           934 non-null    float64\n",
            " 3   midparentHeight  934 non-null    float64\n",
            " 4   children         934 non-null    int64  \n",
            " 5   childNum         934 non-null    int64  \n",
            " 6   gender           934 non-null    object \n",
            " 7   childHeight      934 non-null    float64\n",
            "dtypes: float64(4), int64(2), object(2)\n",
            "memory usage: 58.5+ KB\n"
          ]
        }
      ],
      "source": [
        "# Quais os tipos? Dados faltantes?\n",
        "df.info()"
      ]
    },
    {
      "cell_type": "code",
      "execution_count": 320,
      "metadata": {
        "id": "8DaoHKXLmzpi"
      },
      "outputs": [
        {
          "data": {
            "text/plain": [
              "array(['1', '1', '1', '1', '2', '2', '2', '2', '3', '3', '4', '4', '4',\n",
              "       '4', '4', '5', '5', '5', '5', '5', '5', '6', '7', '7', '7', '7',\n",
              "       '7', '7', '8', '8', '8', '9', '10', '11', '11', '11', '11', '11',\n",
              "       '11', '11', '11', '12', '13', '13', '14', '14', '15', '15', '15',\n",
              "       '16', '16', '16', '16', '16', '16', '16', '16', '16', '17', '17',\n",
              "       '17', '17', '17', '17', '18', '18', '18', '19', '20', '20', '20',\n",
              "       '20', '20', '20', '20', '20', '21', '21', '21', '22', '22', '22',\n",
              "       '23', '23', '23', '23', '23', '23', '23', '24', '25', '25', '26',\n",
              "       '26', '26', '26', '26', '27', '27', '27', '28', '28', '28', '28',\n",
              "       '28', '28', '29', '29', '29', '30', '31', '31', '31', '31', '31',\n",
              "       '31', '32', '32', '32', '32', '32', '33', '33', '33', '33', '33',\n",
              "       '34', '35', '35', '35', '35', '35', '36', '36', '36', '36', '37',\n",
              "       '37', '37', '37', '38', '38', '38', '38', '38', '38', '39', '39',\n",
              "       '40', '40', '40', '40', '40', '41', '42', '42', '42', '42', '42',\n",
              "       '42', '43', '43', '44', '44', '45', '45', '45', '46', '46', '46',\n",
              "       '46', '46', '46', '46', '46', '47', '47', '47', '47', '48', '48',\n",
              "       '48', '49', '49', '49', '49', '49', '49', '49', '50', '50', '51',\n",
              "       '51', '52', '52', '52', '52', '52', '53', '53', '53', '53', '53',\n",
              "       '53', '53', '53', '53', '54', '54', '54', '54', '55', '55', '55',\n",
              "       '55', '55', '56', '56', '56', '56', '56', '57', '57', '57', '57',\n",
              "       '57', '58', '58', '58', '58', '58', '58', '58', '59', '60', '60',\n",
              "       '61', '61', '61', '61', '62', '62', '62', '62', '62', '62', '63',\n",
              "       '64', '64', '64', '64', '64', '65', '66', '66', '66', '66', '66',\n",
              "       '66', '66', '66', '66', '66', '66', '67', '67', '67', '67', '68',\n",
              "       '68', '68', '68', '68', '69', '69', '69', '69', '69', '69', '69',\n",
              "       '69', '70', '70', '70', '70', '70', '71', '71', '71', '71', '71',\n",
              "       '71', '72', '72', '72', '72', '72', '72', '72', '73', '73', '73',\n",
              "       '74', '74', '75', '75', '75', '75', '75', '75', '75', '76', '76',\n",
              "       '76', '76', '76', '76', '76', '77', '77', '77', '77', '78', '78',\n",
              "       '78', '78', '78', '79', '79', '79', '79', '79', '79', '79', '79',\n",
              "       '80', '81', '81', '81', '81', '82', '82', '82', '82', '82', '82',\n",
              "       '82', '82', '82', '83', '83', '83', '83', '83', '83', '83', '83',\n",
              "       '84', '84', '84', '84', '85', '85', '85', '85', '85', '86', '86',\n",
              "       '86', '86', '87', '87', '87', '87', '88', '88', '88', '88', '89',\n",
              "       '89', '89', '89', '89', '89', '89', '89', '90', '90', '90', '90',\n",
              "       '90', '90', '90', '91', '91', '91', '92', '92', '93', '93', '93',\n",
              "       '93', '94', '94', '95', '95', '95', '96', '96', '96', '96', '96',\n",
              "       '97', '97', '97', '97', '97', '97', '97', '97', '97', '97', '98',\n",
              "       '99', '99', '99', '99', '99', '99', '99', '99', '100', '100',\n",
              "       '100', '101', '101', '101', '101', '102', '102', '102', '102',\n",
              "       '102', '102', '103', '103', '103', '103', '103', '103', '103',\n",
              "       '104', '104', '104', '104', '105', '105', '105', '105', '105',\n",
              "       '105', '106', '106', '106', '106', '106', '106', '106', '107',\n",
              "       '107', '107', '107', '107', '107', '107', '107', '107', '108',\n",
              "       '108', '108', '108', '108', '108', '108', '109', '109', '109',\n",
              "       '109', '109', '109', '109', '110', '110', '110', '110', '111',\n",
              "       '112', '112', '112', '113', '114', '114', '114', '114', '114',\n",
              "       '114', '115', '115', '115', '115', '115', '115', '115', '116',\n",
              "       '116', '116', '117', '118', '118', '118', '119', '119', '119',\n",
              "       '119', '119', '120', '120', '120', '120', '120', '120', '120',\n",
              "       '120', '120', '120', '120', '121', '121', '121', '121', '121',\n",
              "       '121', '121', '121', '122', '122', '122', '122', '123', '123',\n",
              "       '123', '123', '123', '124', '124', '124', '124', '124', '124',\n",
              "       '124', '124', '124', '125', '125', '125', '126', '126', '126',\n",
              "       '126', '127', '128', '128', '129', '129', '129', '130', '130',\n",
              "       '130', '130', '130', '130', '130', '130', '130', '130', '130',\n",
              "       '131', '131', '132', '132', '133', '133', '133', '133', '133',\n",
              "       '133', '133', '134', '134', '134', '134', '135', '135', '135',\n",
              "       '135', '135', '135', '135', '135', '136A', '136A', '136A', '136A',\n",
              "       '136A', '136A', '136A', '136A', '136', '136', '136', '136', '136',\n",
              "       '136', '136', '136', '136', '136', '137', '137', '137', '137',\n",
              "       '138', '138', '138', '138', '138', '139', '140', '140', '140',\n",
              "       '140', '140', '140', '140', '140', '140', '140', '141', '141',\n",
              "       '141', '141', '141', '141', '141', '141', '142', '142', '142',\n",
              "       '142', '143', '144', '144', '144', '144', '145', '145', '145',\n",
              "       '145', '145', '145', '145', '145', '146', '146', '146', '146',\n",
              "       '146', '146', '147', '148', '149', '149', '149', '149', '149',\n",
              "       '150', '151', '151', '152', '153', '153', '153', '153', '153',\n",
              "       '154', '155', '155', '155', '155', '155', '155', '155', '156',\n",
              "       '156', '156', '156', '157', '158', '158', '158', '158', '158',\n",
              "       '158', '158', '158', '158', '158', '159', '159', '159', '159',\n",
              "       '159', '160', '161', '161', '161', '161', '161', '161', '161',\n",
              "       '161', '162', '162', '162', '162', '162', '162', '163', '163',\n",
              "       '163', '163', '163', '164', '164', '164', '164', '165', '165',\n",
              "       '165', '166', '166', '166', '166', '166', '166', '166', '166',\n",
              "       '166', '166', '166', '167', '167', '167', '167', '168', '168',\n",
              "       '168', '168', '168', '168', '168', '168', '169', '169', '169',\n",
              "       '170', '170', '170', '170', '170', '171', '172', '172', '172',\n",
              "       '172', '172', '172', '172', '172', '173', '173', '173', '173',\n",
              "       '173', '173', '173', '173', '173', '174', '174', '174', '174',\n",
              "       '174', '175', '175', '175', '175', '175', '175', '176', '176',\n",
              "       '176', '176', '176', '176', '176', '176', '177', '177', '177',\n",
              "       '177', '177', '178', '179', '179', '180', '180', '180', '180',\n",
              "       '180', '180', '181', '181', '181', '181', '181', '181', '181',\n",
              "       '182', '183', '183', '183', '183', '184', '185', '185', '185',\n",
              "       '185', '185', '185', '185', '185', '185', '185', '185', '185',\n",
              "       '185', '185', '185', '186', '186', '186', '186', '187', '188',\n",
              "       '188', '188', '188', '189', '189', '189', '189', '189', '190',\n",
              "       '190', '190', '190', '190', '190', '190', '190', '190', '191',\n",
              "       '191', '192', '192', '192', '192', '192', '192', '193', '193',\n",
              "       '193', '193', '193', '193', '194', '194', '195', '195', '195',\n",
              "       '196', '196', '196', '196', '197', '197', '197', '197', '197',\n",
              "       '198', '198', '198', '198', '198', '198', '198', '199', '199',\n",
              "       '199', '199', '199', '199', '199', '200', '201', '201', '202',\n",
              "       '202', '203', '203', '203', '204', '204'], dtype=object)"
            ]
          },
          "execution_count": 320,
          "metadata": {},
          "output_type": "execute_result"
        }
      ],
      "source": [
        "# Quais são os valores da coluna família? Notem que tem elementos com \"A\", por isso o Pandas\n",
        "# converteu tudo para string (object), pois ao forçar conversão para float ia dar problema\n",
        "df[\"family\"].values"
      ]
    },
    {
      "cell_type": "code",
      "execution_count": 321,
      "metadata": {
        "id": "D6JVABSFmzpi"
      },
      "outputs": [
        {
          "data": {
            "text/html": [
              "<div>\n",
              "<style scoped>\n",
              "    .dataframe tbody tr th:only-of-type {\n",
              "        vertical-align: middle;\n",
              "    }\n",
              "\n",
              "    .dataframe tbody tr th {\n",
              "        vertical-align: top;\n",
              "    }\n",
              "\n",
              "    .dataframe thead th {\n",
              "        text-align: right;\n",
              "    }\n",
              "</style>\n",
              "<table border=\"1\" class=\"dataframe\">\n",
              "  <thead>\n",
              "    <tr style=\"text-align: right;\">\n",
              "      <th></th>\n",
              "      <th>family</th>\n",
              "      <th>father</th>\n",
              "      <th>mother</th>\n",
              "      <th>midparentHeight</th>\n",
              "      <th>children</th>\n",
              "      <th>childNum</th>\n",
              "      <th>gender</th>\n",
              "      <th>childHeight</th>\n",
              "    </tr>\n",
              "  </thead>\n",
              "  <tbody>\n",
              "    <tr>\n",
              "      <th>0</th>\n",
              "      <td>1</td>\n",
              "      <td>78.5</td>\n",
              "      <td>67.0</td>\n",
              "      <td>75.43</td>\n",
              "      <td>4</td>\n",
              "      <td>1</td>\n",
              "      <td>male</td>\n",
              "      <td>73.2</td>\n",
              "    </tr>\n",
              "    <tr>\n",
              "      <th>4</th>\n",
              "      <td>2</td>\n",
              "      <td>75.5</td>\n",
              "      <td>66.5</td>\n",
              "      <td>73.66</td>\n",
              "      <td>4</td>\n",
              "      <td>1</td>\n",
              "      <td>male</td>\n",
              "      <td>73.5</td>\n",
              "    </tr>\n",
              "    <tr>\n",
              "      <th>5</th>\n",
              "      <td>2</td>\n",
              "      <td>75.5</td>\n",
              "      <td>66.5</td>\n",
              "      <td>73.66</td>\n",
              "      <td>4</td>\n",
              "      <td>2</td>\n",
              "      <td>male</td>\n",
              "      <td>72.5</td>\n",
              "    </tr>\n",
              "    <tr>\n",
              "      <th>8</th>\n",
              "      <td>3</td>\n",
              "      <td>75.0</td>\n",
              "      <td>64.0</td>\n",
              "      <td>72.06</td>\n",
              "      <td>2</td>\n",
              "      <td>1</td>\n",
              "      <td>male</td>\n",
              "      <td>71.0</td>\n",
              "    </tr>\n",
              "    <tr>\n",
              "      <th>10</th>\n",
              "      <td>4</td>\n",
              "      <td>75.0</td>\n",
              "      <td>64.0</td>\n",
              "      <td>72.06</td>\n",
              "      <td>5</td>\n",
              "      <td>1</td>\n",
              "      <td>male</td>\n",
              "      <td>70.5</td>\n",
              "    </tr>\n",
              "    <tr>\n",
              "      <th>...</th>\n",
              "      <td>...</td>\n",
              "      <td>...</td>\n",
              "      <td>...</td>\n",
              "      <td>...</td>\n",
              "      <td>...</td>\n",
              "      <td>...</td>\n",
              "      <td>...</td>\n",
              "      <td>...</td>\n",
              "    </tr>\n",
              "    <tr>\n",
              "      <th>918</th>\n",
              "      <td>199</td>\n",
              "      <td>64.0</td>\n",
              "      <td>64.0</td>\n",
              "      <td>66.56</td>\n",
              "      <td>7</td>\n",
              "      <td>2</td>\n",
              "      <td>male</td>\n",
              "      <td>68.0</td>\n",
              "    </tr>\n",
              "    <tr>\n",
              "      <th>924</th>\n",
              "      <td>200</td>\n",
              "      <td>64.0</td>\n",
              "      <td>63.0</td>\n",
              "      <td>66.02</td>\n",
              "      <td>1</td>\n",
              "      <td>1</td>\n",
              "      <td>male</td>\n",
              "      <td>64.5</td>\n",
              "    </tr>\n",
              "    <tr>\n",
              "      <th>925</th>\n",
              "      <td>201</td>\n",
              "      <td>64.0</td>\n",
              "      <td>60.0</td>\n",
              "      <td>64.40</td>\n",
              "      <td>2</td>\n",
              "      <td>1</td>\n",
              "      <td>male</td>\n",
              "      <td>66.0</td>\n",
              "    </tr>\n",
              "    <tr>\n",
              "      <th>929</th>\n",
              "      <td>203</td>\n",
              "      <td>62.0</td>\n",
              "      <td>66.0</td>\n",
              "      <td>66.64</td>\n",
              "      <td>3</td>\n",
              "      <td>1</td>\n",
              "      <td>male</td>\n",
              "      <td>64.0</td>\n",
              "    </tr>\n",
              "    <tr>\n",
              "      <th>932</th>\n",
              "      <td>204</td>\n",
              "      <td>62.5</td>\n",
              "      <td>63.0</td>\n",
              "      <td>65.27</td>\n",
              "      <td>2</td>\n",
              "      <td>1</td>\n",
              "      <td>male</td>\n",
              "      <td>66.5</td>\n",
              "    </tr>\n",
              "  </tbody>\n",
              "</table>\n",
              "<p>481 rows × 8 columns</p>\n",
              "</div>"
            ],
            "text/plain": [
              "    family  father  mother  midparentHeight  children  childNum gender   \n",
              "0        1    78.5    67.0            75.43         4         1   male  \\\n",
              "4        2    75.5    66.5            73.66         4         1   male   \n",
              "5        2    75.5    66.5            73.66         4         2   male   \n",
              "8        3    75.0    64.0            72.06         2         1   male   \n",
              "10       4    75.0    64.0            72.06         5         1   male   \n",
              "..     ...     ...     ...              ...       ...       ...    ...   \n",
              "918    199    64.0    64.0            66.56         7         2   male   \n",
              "924    200    64.0    63.0            66.02         1         1   male   \n",
              "925    201    64.0    60.0            64.40         2         1   male   \n",
              "929    203    62.0    66.0            66.64         3         1   male   \n",
              "932    204    62.5    63.0            65.27         2         1   male   \n",
              "\n",
              "     childHeight  \n",
              "0           73.2  \n",
              "4           73.5  \n",
              "5           72.5  \n",
              "8           71.0  \n",
              "10          70.5  \n",
              "..           ...  \n",
              "918         68.0  \n",
              "924         64.5  \n",
              "925         66.0  \n",
              "929         64.0  \n",
              "932         66.5  \n",
              "\n",
              "[481 rows x 8 columns]"
            ]
          },
          "execution_count": 321,
          "metadata": {},
          "output_type": "execute_result"
        }
      ],
      "source": [
        "# Filtros: todas os filhos homens\n",
        "df[df[\"gender\"] == \"male\"]"
      ]
    },
    {
      "cell_type": "code",
      "execution_count": 322,
      "metadata": {
        "id": "QrBIsUx5mzpj"
      },
      "outputs": [
        {
          "data": {
            "text/plain": [
              "family             205\n",
              "father              35\n",
              "mother              29\n",
              "midparentHeight    140\n",
              "children            12\n",
              "childNum            15\n",
              "gender               2\n",
              "childHeight         67\n",
              "dtype: int64"
            ]
          },
          "execution_count": 322,
          "metadata": {},
          "output_type": "execute_result"
        }
      ],
      "source": [
        "# Existem quantos valores únicos para cada coluna?\n",
        "df.nunique()"
      ]
    },
    {
      "cell_type": "code",
      "execution_count": 323,
      "metadata": {
        "id": "VZpPTGz1mzpj"
      },
      "outputs": [
        {
          "data": {
            "text/html": [
              "<div>\n",
              "<style scoped>\n",
              "    .dataframe tbody tr th:only-of-type {\n",
              "        vertical-align: middle;\n",
              "    }\n",
              "\n",
              "    .dataframe tbody tr th {\n",
              "        vertical-align: top;\n",
              "    }\n",
              "\n",
              "    .dataframe thead th {\n",
              "        text-align: right;\n",
              "    }\n",
              "</style>\n",
              "<table border=\"1\" class=\"dataframe\">\n",
              "  <thead>\n",
              "    <tr style=\"text-align: right;\">\n",
              "      <th></th>\n",
              "      <th>family</th>\n",
              "      <th>father</th>\n",
              "      <th>mother</th>\n",
              "      <th>midparentHeight</th>\n",
              "      <th>children</th>\n",
              "      <th>childNum</th>\n",
              "      <th>gender</th>\n",
              "      <th>childHeight</th>\n",
              "    </tr>\n",
              "  </thead>\n",
              "  <tbody>\n",
              "    <tr>\n",
              "      <th>26</th>\n",
              "      <td>7</td>\n",
              "      <td>74.0</td>\n",
              "      <td>68.0</td>\n",
              "      <td>73.72</td>\n",
              "      <td>6</td>\n",
              "      <td>5</td>\n",
              "      <td>female</td>\n",
              "      <td>70.5</td>\n",
              "    </tr>\n",
              "    <tr>\n",
              "      <th>28</th>\n",
              "      <td>8</td>\n",
              "      <td>74.0</td>\n",
              "      <td>66.5</td>\n",
              "      <td>72.91</td>\n",
              "      <td>3</td>\n",
              "      <td>1</td>\n",
              "      <td>female</td>\n",
              "      <td>70.5</td>\n",
              "    </tr>\n",
              "    <tr>\n",
              "      <th>102</th>\n",
              "      <td>28</td>\n",
              "      <td>72.0</td>\n",
              "      <td>63.0</td>\n",
              "      <td>70.02</td>\n",
              "      <td>6</td>\n",
              "      <td>3</td>\n",
              "      <td>female</td>\n",
              "      <td>70.5</td>\n",
              "    </tr>\n",
              "  </tbody>\n",
              "</table>\n",
              "</div>"
            ],
            "text/plain": [
              "    family  father  mother  midparentHeight  children  childNum  gender   \n",
              "26       7    74.0    68.0            73.72         6         5  female  \\\n",
              "28       8    74.0    66.5            72.91         3         1  female   \n",
              "102     28    72.0    63.0            70.02         6         3  female   \n",
              "\n",
              "     childHeight  \n",
              "26          70.5  \n",
              "28          70.5  \n",
              "102         70.5  "
            ]
          },
          "execution_count": 323,
          "metadata": {},
          "output_type": "execute_result"
        }
      ],
      "source": [
        "# Filtros múltiplos: coloque cada condição entre parênteses! Use:\n",
        "#    & : para AND (and)\n",
        "#    | : para OR (ou)\n",
        "# Filtrando todas as meninas com altura maior que 70\n",
        "df[(df[\"childHeight\"] > 70) & (df[\"gender\"] == \"female\")]"
      ]
    },
    {
      "cell_type": "code",
      "execution_count": 324,
      "metadata": {
        "id": "KwQCs6q0mzpj"
      },
      "outputs": [
        {
          "data": {
            "text/html": [
              "<div>\n",
              "<style scoped>\n",
              "    .dataframe tbody tr th:only-of-type {\n",
              "        vertical-align: middle;\n",
              "    }\n",
              "\n",
              "    .dataframe tbody tr th {\n",
              "        vertical-align: top;\n",
              "    }\n",
              "\n",
              "    .dataframe thead th {\n",
              "        text-align: right;\n",
              "    }\n",
              "</style>\n",
              "<table border=\"1\" class=\"dataframe\">\n",
              "  <thead>\n",
              "    <tr style=\"text-align: right;\">\n",
              "      <th></th>\n",
              "      <th>father</th>\n",
              "      <th>mother</th>\n",
              "      <th>midparentHeight</th>\n",
              "      <th>children</th>\n",
              "      <th>childNum</th>\n",
              "      <th>childHeight</th>\n",
              "    </tr>\n",
              "  </thead>\n",
              "  <tbody>\n",
              "    <tr>\n",
              "      <th>count</th>\n",
              "      <td>934.000000</td>\n",
              "      <td>934.000000</td>\n",
              "      <td>934.000000</td>\n",
              "      <td>934.000000</td>\n",
              "      <td>934.000000</td>\n",
              "      <td>934.000000</td>\n",
              "    </tr>\n",
              "    <tr>\n",
              "      <th>mean</th>\n",
              "      <td>69.197109</td>\n",
              "      <td>64.089293</td>\n",
              "      <td>69.206773</td>\n",
              "      <td>6.171306</td>\n",
              "      <td>3.585653</td>\n",
              "      <td>66.745931</td>\n",
              "    </tr>\n",
              "    <tr>\n",
              "      <th>std</th>\n",
              "      <td>2.476479</td>\n",
              "      <td>2.290886</td>\n",
              "      <td>1.802370</td>\n",
              "      <td>2.729025</td>\n",
              "      <td>2.361410</td>\n",
              "      <td>3.579251</td>\n",
              "    </tr>\n",
              "    <tr>\n",
              "      <th>min</th>\n",
              "      <td>62.000000</td>\n",
              "      <td>58.000000</td>\n",
              "      <td>64.400000</td>\n",
              "      <td>1.000000</td>\n",
              "      <td>1.000000</td>\n",
              "      <td>56.000000</td>\n",
              "    </tr>\n",
              "    <tr>\n",
              "      <th>25%</th>\n",
              "      <td>68.000000</td>\n",
              "      <td>63.000000</td>\n",
              "      <td>68.140000</td>\n",
              "      <td>4.000000</td>\n",
              "      <td>2.000000</td>\n",
              "      <td>64.000000</td>\n",
              "    </tr>\n",
              "    <tr>\n",
              "      <th>50%</th>\n",
              "      <td>69.000000</td>\n",
              "      <td>64.000000</td>\n",
              "      <td>69.248000</td>\n",
              "      <td>6.000000</td>\n",
              "      <td>3.000000</td>\n",
              "      <td>66.500000</td>\n",
              "    </tr>\n",
              "    <tr>\n",
              "      <th>75%</th>\n",
              "      <td>71.000000</td>\n",
              "      <td>65.875000</td>\n",
              "      <td>70.140000</td>\n",
              "      <td>8.000000</td>\n",
              "      <td>5.000000</td>\n",
              "      <td>69.700000</td>\n",
              "    </tr>\n",
              "    <tr>\n",
              "      <th>max</th>\n",
              "      <td>78.500000</td>\n",
              "      <td>70.500000</td>\n",
              "      <td>75.430000</td>\n",
              "      <td>15.000000</td>\n",
              "      <td>15.000000</td>\n",
              "      <td>79.000000</td>\n",
              "    </tr>\n",
              "  </tbody>\n",
              "</table>\n",
              "</div>"
            ],
            "text/plain": [
              "           father      mother  midparentHeight    children    childNum   \n",
              "count  934.000000  934.000000       934.000000  934.000000  934.000000  \\\n",
              "mean    69.197109   64.089293        69.206773    6.171306    3.585653   \n",
              "std      2.476479    2.290886         1.802370    2.729025    2.361410   \n",
              "min     62.000000   58.000000        64.400000    1.000000    1.000000   \n",
              "25%     68.000000   63.000000        68.140000    4.000000    2.000000   \n",
              "50%     69.000000   64.000000        69.248000    6.000000    3.000000   \n",
              "75%     71.000000   65.875000        70.140000    8.000000    5.000000   \n",
              "max     78.500000   70.500000        75.430000   15.000000   15.000000   \n",
              "\n",
              "       childHeight  \n",
              "count   934.000000  \n",
              "mean     66.745931  \n",
              "std       3.579251  \n",
              "min      56.000000  \n",
              "25%      64.000000  \n",
              "50%      66.500000  \n",
              "75%      69.700000  \n",
              "max      79.000000  "
            ]
          },
          "execution_count": 324,
          "metadata": {},
          "output_type": "execute_result"
        }
      ],
      "source": [
        "# Alguma info estatística útil?\n",
        "df.describe()"
      ]
    },
    {
      "cell_type": "code",
      "execution_count": null,
      "metadata": {
        "id": "Q4puMpkimzpk"
      },
      "outputs": [],
      "source": []
    },
    {
      "attachments": {},
      "cell_type": "markdown",
      "metadata": {
        "id": "bZDkzcIjmzpk"
      },
      "source": [
        "### Limpeza dos dados\n"
      ]
    },
    {
      "cell_type": "code",
      "execution_count": 325,
      "metadata": {
        "id": "nZr-N24mmzpk"
      },
      "outputs": [],
      "source": [
        "# Removendo duplicatas\n",
        "df.drop_duplicates(inplace=True)"
      ]
    },
    {
      "cell_type": "code",
      "execution_count": 326,
      "metadata": {
        "id": "yVlO8kKLmzpl"
      },
      "outputs": [],
      "source": [
        "# Removendo dados faltantes\n",
        "df.dropna(inplace=True)"
      ]
    },
    {
      "cell_type": "code",
      "execution_count": 327,
      "metadata": {
        "id": "ZEOZv-mTmzpl"
      },
      "outputs": [
        {
          "data": {
            "text/plain": [
              "(934, 8)"
            ]
          },
          "execution_count": 327,
          "metadata": {},
          "output_type": "execute_result"
        }
      ],
      "source": [
        "# Tamanho final: aqui é o mesmo tamanho da entrada, porque não há duplicadas ou valores faltantes\n",
        "df.shape"
      ]
    },
    {
      "attachments": {},
      "cell_type": "markdown",
      "metadata": {
        "id": "1GlrvBtjmzpl"
      },
      "source": [
        "Vamos trabalhar com dados em **metros**? Não somos obrigados.\n"
      ]
    },
    {
      "cell_type": "code",
      "execution_count": 328,
      "metadata": {
        "id": "myqwE1ZWmzpm"
      },
      "outputs": [],
      "source": [
        "# Funcao\n",
        "def inch2m(inch):\n",
        "    return inch * 2.54 / 100"
      ]
    },
    {
      "cell_type": "code",
      "execution_count": 329,
      "metadata": {
        "id": "vDdPTyG9mzpm"
      },
      "outputs": [
        {
          "data": {
            "text/plain": [
              "2.0066"
            ]
          },
          "execution_count": 329,
          "metadata": {},
          "output_type": "execute_result"
        }
      ],
      "source": [
        "inch2m(79)"
      ]
    },
    {
      "cell_type": "code",
      "execution_count": 330,
      "metadata": {
        "id": "A-P82aLzmzpm"
      },
      "outputs": [],
      "source": [
        "# Converte a coluna das alturas do PAI\n",
        "# Para cada linha da coluna FATHER aplica a função \"inch2m()\", salve o valor na própria coluna FATHER\n",
        "df[\"father\"] = df[\"father\"].apply(inch2m)"
      ]
    },
    {
      "cell_type": "code",
      "execution_count": 331,
      "metadata": {
        "id": "2E4FqQaQmzpn"
      },
      "outputs": [
        {
          "data": {
            "text/plain": [
              "933    1.5875\n",
              "278    1.7780\n",
              "34     1.8796\n",
              "719    1.7018\n",
              "511    1.7526\n",
              "631    1.7272\n",
              "825    1.6891\n",
              "467    1.7653\n",
              "584    1.7399\n",
              "270    1.7907\n",
              "Name: father, dtype: float64"
            ]
          },
          "execution_count": 331,
          "metadata": {},
          "output_type": "execute_result"
        }
      ],
      "source": [
        "df.sample(10)[\"father\"]"
      ]
    },
    {
      "cell_type": "code",
      "execution_count": null,
      "metadata": {
        "id": "vT_fISkjmzpn"
      },
      "outputs": [],
      "source": []
    },
    {
      "attachments": {},
      "cell_type": "markdown",
      "metadata": {
        "id": "EVsFOiB2mzpo"
      },
      "source": [
        "Agora faça o mesmo para as demais colunas de alturas!\n"
      ]
    },
    {
      "cell_type": "code",
      "execution_count": 332,
      "metadata": {
        "id": "abktLv9mmzpo"
      },
      "outputs": [],
      "source": [
        "colunas = [\"mother\", \"midparentHeight\", \"childHeight\"]"
      ]
    },
    {
      "cell_type": "code",
      "execution_count": 333,
      "metadata": {
        "id": "c9rycv-lmzpo"
      },
      "outputs": [],
      "source": [
        "# Para cada valor da lista \"colunas\", salve o valor na variável \"coluna\" e\n",
        "# faça as mesmas alterações que da coluna father\n",
        "for c in colunas:\n",
        "    df[c] = df[c].apply(inch2m)"
      ]
    },
    {
      "cell_type": "code",
      "execution_count": 334,
      "metadata": {
        "id": "jFkTzsUkmzpp"
      },
      "outputs": [
        {
          "data": {
            "text/html": [
              "<div>\n",
              "<style scoped>\n",
              "    .dataframe tbody tr th:only-of-type {\n",
              "        vertical-align: middle;\n",
              "    }\n",
              "\n",
              "    .dataframe tbody tr th {\n",
              "        vertical-align: top;\n",
              "    }\n",
              "\n",
              "    .dataframe thead th {\n",
              "        text-align: right;\n",
              "    }\n",
              "</style>\n",
              "<table border=\"1\" class=\"dataframe\">\n",
              "  <thead>\n",
              "    <tr style=\"text-align: right;\">\n",
              "      <th></th>\n",
              "      <th>mother</th>\n",
              "      <th>midparentHeight</th>\n",
              "      <th>childHeight</th>\n",
              "    </tr>\n",
              "  </thead>\n",
              "  <tbody>\n",
              "    <tr>\n",
              "      <th>699</th>\n",
              "      <td>1.5240</td>\n",
              "      <td>1.686560</td>\n",
              "      <td>1.5240</td>\n",
              "    </tr>\n",
              "    <tr>\n",
              "      <th>600</th>\n",
              "      <td>1.6510</td>\n",
              "      <td>1.755140</td>\n",
              "      <td>1.6764</td>\n",
              "    </tr>\n",
              "    <tr>\n",
              "      <th>915</th>\n",
              "      <td>1.6256</td>\n",
              "      <td>1.690624</td>\n",
              "      <td>1.5748</td>\n",
              "    </tr>\n",
              "    <tr>\n",
              "      <th>427</th>\n",
              "      <td>1.6764</td>\n",
              "      <td>1.781556</td>\n",
              "      <td>1.6637</td>\n",
              "    </tr>\n",
              "    <tr>\n",
              "      <th>649</th>\n",
              "      <td>1.6002</td>\n",
              "      <td>1.727708</td>\n",
              "      <td>1.7272</td>\n",
              "    </tr>\n",
              "  </tbody>\n",
              "</table>\n",
              "</div>"
            ],
            "text/plain": [
              "     mother  midparentHeight  childHeight\n",
              "699  1.5240         1.686560       1.5240\n",
              "600  1.6510         1.755140       1.6764\n",
              "915  1.6256         1.690624       1.5748\n",
              "427  1.6764         1.781556       1.6637\n",
              "649  1.6002         1.727708       1.7272"
            ]
          },
          "execution_count": 334,
          "metadata": {},
          "output_type": "execute_result"
        }
      ],
      "source": [
        "df.sample(5)[colunas]"
      ]
    },
    {
      "attachments": {},
      "cell_type": "markdown",
      "metadata": {
        "id": "pn2fOysomzpp"
      },
      "source": [
        "Sabemos que os modelos só trabalham com números, então não podemos deixar a coluna `gender` como está! Precisamos transformá-la!\n",
        "\n",
        "O código da célula abaixo possui o mesmo efeito que o seguinte código, com uma função explícita:\n",
        "\n",
        "```python\n",
        "def sex(x):\n",
        "    if x == \"male\":\n",
        "        return 0\n",
        "    else:\n",
        "        return 1\n",
        "\n",
        "df[\"gender\"] = df[\"gender\"].apply(sex)\n",
        "```\n"
      ]
    },
    {
      "cell_type": "code",
      "execution_count": 335,
      "metadata": {
        "id": "ssNQHfFvmzpp"
      },
      "outputs": [],
      "source": [
        "# Aqui usamos uma função implícita chamada \"lambda\". Para cada linha, pegue o valor x da coluna\n",
        "# gender e verifique se é masculino. Se for, retorne o valor 0, do contrário retorne o valor 1\n",
        "df[\"gender\"] = df[\"gender\"].apply(lambda x: 0 if x == \"female\" else 1)"
      ]
    },
    {
      "cell_type": "code",
      "execution_count": 336,
      "metadata": {
        "id": "99BY3H2Hmzpp"
      },
      "outputs": [
        {
          "data": {
            "text/plain": [
              "133    1\n",
              "343    1\n",
              "629    0\n",
              "776    1\n",
              "780    1\n",
              "Name: gender, dtype: int64"
            ]
          },
          "execution_count": 336,
          "metadata": {},
          "output_type": "execute_result"
        }
      ],
      "source": [
        "df.sample(5)[\"gender\"]"
      ]
    },
    {
      "cell_type": "code",
      "execution_count": 337,
      "metadata": {
        "id": "sYVi1gIlmzpq"
      },
      "outputs": [
        {
          "data": {
            "text/html": [
              "<div>\n",
              "<style scoped>\n",
              "    .dataframe tbody tr th:only-of-type {\n",
              "        vertical-align: middle;\n",
              "    }\n",
              "\n",
              "    .dataframe tbody tr th {\n",
              "        vertical-align: top;\n",
              "    }\n",
              "\n",
              "    .dataframe thead th {\n",
              "        text-align: right;\n",
              "    }\n",
              "</style>\n",
              "<table border=\"1\" class=\"dataframe\">\n",
              "  <thead>\n",
              "    <tr style=\"text-align: right;\">\n",
              "      <th></th>\n",
              "      <th>father</th>\n",
              "      <th>mother</th>\n",
              "      <th>midparentHeight</th>\n",
              "      <th>gender</th>\n",
              "      <th>childHeight</th>\n",
              "    </tr>\n",
              "  </thead>\n",
              "  <tbody>\n",
              "    <tr>\n",
              "      <th>0</th>\n",
              "      <td>1.9939</td>\n",
              "      <td>1.7018</td>\n",
              "      <td>1.915922</td>\n",
              "      <td>1</td>\n",
              "      <td>1.85928</td>\n",
              "    </tr>\n",
              "    <tr>\n",
              "      <th>1</th>\n",
              "      <td>1.9939</td>\n",
              "      <td>1.7018</td>\n",
              "      <td>1.915922</td>\n",
              "      <td>0</td>\n",
              "      <td>1.75768</td>\n",
              "    </tr>\n",
              "    <tr>\n",
              "      <th>2</th>\n",
              "      <td>1.9939</td>\n",
              "      <td>1.7018</td>\n",
              "      <td>1.915922</td>\n",
              "      <td>0</td>\n",
              "      <td>1.75260</td>\n",
              "    </tr>\n",
              "    <tr>\n",
              "      <th>3</th>\n",
              "      <td>1.9939</td>\n",
              "      <td>1.7018</td>\n",
              "      <td>1.915922</td>\n",
              "      <td>0</td>\n",
              "      <td>1.75260</td>\n",
              "    </tr>\n",
              "    <tr>\n",
              "      <th>4</th>\n",
              "      <td>1.9177</td>\n",
              "      <td>1.6891</td>\n",
              "      <td>1.870964</td>\n",
              "      <td>1</td>\n",
              "      <td>1.86690</td>\n",
              "    </tr>\n",
              "    <tr>\n",
              "      <th>...</th>\n",
              "      <td>...</td>\n",
              "      <td>...</td>\n",
              "      <td>...</td>\n",
              "      <td>...</td>\n",
              "      <td>...</td>\n",
              "    </tr>\n",
              "    <tr>\n",
              "      <th>929</th>\n",
              "      <td>1.5748</td>\n",
              "      <td>1.6764</td>\n",
              "      <td>1.692656</td>\n",
              "      <td>1</td>\n",
              "      <td>1.62560</td>\n",
              "    </tr>\n",
              "    <tr>\n",
              "      <th>930</th>\n",
              "      <td>1.5748</td>\n",
              "      <td>1.6764</td>\n",
              "      <td>1.692656</td>\n",
              "      <td>0</td>\n",
              "      <td>1.57480</td>\n",
              "    </tr>\n",
              "    <tr>\n",
              "      <th>931</th>\n",
              "      <td>1.5748</td>\n",
              "      <td>1.6764</td>\n",
              "      <td>1.692656</td>\n",
              "      <td>0</td>\n",
              "      <td>1.54940</td>\n",
              "    </tr>\n",
              "    <tr>\n",
              "      <th>932</th>\n",
              "      <td>1.5875</td>\n",
              "      <td>1.6002</td>\n",
              "      <td>1.657858</td>\n",
              "      <td>1</td>\n",
              "      <td>1.68910</td>\n",
              "    </tr>\n",
              "    <tr>\n",
              "      <th>933</th>\n",
              "      <td>1.5875</td>\n",
              "      <td>1.6002</td>\n",
              "      <td>1.657858</td>\n",
              "      <td>0</td>\n",
              "      <td>1.44780</td>\n",
              "    </tr>\n",
              "  </tbody>\n",
              "</table>\n",
              "<p>934 rows × 5 columns</p>\n",
              "</div>"
            ],
            "text/plain": [
              "     father  mother  midparentHeight  gender  childHeight\n",
              "0    1.9939  1.7018         1.915922       1      1.85928\n",
              "1    1.9939  1.7018         1.915922       0      1.75768\n",
              "2    1.9939  1.7018         1.915922       0      1.75260\n",
              "3    1.9939  1.7018         1.915922       0      1.75260\n",
              "4    1.9177  1.6891         1.870964       1      1.86690\n",
              "..      ...     ...              ...     ...          ...\n",
              "929  1.5748  1.6764         1.692656       1      1.62560\n",
              "930  1.5748  1.6764         1.692656       0      1.57480\n",
              "931  1.5748  1.6764         1.692656       0      1.54940\n",
              "932  1.5875  1.6002         1.657858       1      1.68910\n",
              "933  1.5875  1.6002         1.657858       0      1.44780\n",
              "\n",
              "[934 rows x 5 columns]"
            ]
          },
          "execution_count": 337,
          "metadata": {},
          "output_type": "execute_result"
        }
      ],
      "source": [
        "# Removendo colunas que não serão úteis\n",
        "df1 = df[[\"father\", \"mother\", \"midparentHeight\", \"gender\", \"childHeight\"]]\n",
        "\n",
        "df1"
      ]
    },
    {
      "attachments": {},
      "cell_type": "markdown",
      "metadata": {
        "id": "-GtNW-PAmzpq"
      },
      "source": [
        "### Modelagem\n"
      ]
    },
    {
      "cell_type": "code",
      "execution_count": 338,
      "metadata": {
        "id": "v25jq1K9mzpq"
      },
      "outputs": [],
      "source": [
        "# Separação de DADOS e LABEL\n",
        "X = df1.drop(columns=[\"childHeight\"])\n",
        "y = df1[\"childHeight\"]"
      ]
    },
    {
      "cell_type": "code",
      "execution_count": 339,
      "metadata": {
        "id": "MLDx0oXtmzpq"
      },
      "outputs": [],
      "source": [
        "# Dividindo dados para TREINO e TESTE\n",
        "X_train, X_test, y_train, y_test = train_test_split(X, y, test_size=0.3)"
      ]
    },
    {
      "cell_type": "code",
      "execution_count": 340,
      "metadata": {
        "id": "OK4YbGVKmzpr"
      },
      "outputs": [
        {
          "data": {
            "text/html": [
              "<style>#sk-container-id-8 {color: black;background-color: white;}#sk-container-id-8 pre{padding: 0;}#sk-container-id-8 div.sk-toggleable {background-color: white;}#sk-container-id-8 label.sk-toggleable__label {cursor: pointer;display: block;width: 100%;margin-bottom: 0;padding: 0.3em;box-sizing: border-box;text-align: center;}#sk-container-id-8 label.sk-toggleable__label-arrow:before {content: \"▸\";float: left;margin-right: 0.25em;color: #696969;}#sk-container-id-8 label.sk-toggleable__label-arrow:hover:before {color: black;}#sk-container-id-8 div.sk-estimator:hover label.sk-toggleable__label-arrow:before {color: black;}#sk-container-id-8 div.sk-toggleable__content {max-height: 0;max-width: 0;overflow: hidden;text-align: left;background-color: #f0f8ff;}#sk-container-id-8 div.sk-toggleable__content pre {margin: 0.2em;color: black;border-radius: 0.25em;background-color: #f0f8ff;}#sk-container-id-8 input.sk-toggleable__control:checked~div.sk-toggleable__content {max-height: 200px;max-width: 100%;overflow: auto;}#sk-container-id-8 input.sk-toggleable__control:checked~label.sk-toggleable__label-arrow:before {content: \"▾\";}#sk-container-id-8 div.sk-estimator input.sk-toggleable__control:checked~label.sk-toggleable__label {background-color: #d4ebff;}#sk-container-id-8 div.sk-label input.sk-toggleable__control:checked~label.sk-toggleable__label {background-color: #d4ebff;}#sk-container-id-8 input.sk-hidden--visually {border: 0;clip: rect(1px 1px 1px 1px);clip: rect(1px, 1px, 1px, 1px);height: 1px;margin: -1px;overflow: hidden;padding: 0;position: absolute;width: 1px;}#sk-container-id-8 div.sk-estimator {font-family: monospace;background-color: #f0f8ff;border: 1px dotted black;border-radius: 0.25em;box-sizing: border-box;margin-bottom: 0.5em;}#sk-container-id-8 div.sk-estimator:hover {background-color: #d4ebff;}#sk-container-id-8 div.sk-parallel-item::after {content: \"\";width: 100%;border-bottom: 1px solid gray;flex-grow: 1;}#sk-container-id-8 div.sk-label:hover label.sk-toggleable__label {background-color: #d4ebff;}#sk-container-id-8 div.sk-serial::before {content: \"\";position: absolute;border-left: 1px solid gray;box-sizing: border-box;top: 0;bottom: 0;left: 50%;z-index: 0;}#sk-container-id-8 div.sk-serial {display: flex;flex-direction: column;align-items: center;background-color: white;padding-right: 0.2em;padding-left: 0.2em;position: relative;}#sk-container-id-8 div.sk-item {position: relative;z-index: 1;}#sk-container-id-8 div.sk-parallel {display: flex;align-items: stretch;justify-content: center;background-color: white;position: relative;}#sk-container-id-8 div.sk-item::before, #sk-container-id-8 div.sk-parallel-item::before {content: \"\";position: absolute;border-left: 1px solid gray;box-sizing: border-box;top: 0;bottom: 0;left: 50%;z-index: -1;}#sk-container-id-8 div.sk-parallel-item {display: flex;flex-direction: column;z-index: 1;position: relative;background-color: white;}#sk-container-id-8 div.sk-parallel-item:first-child::after {align-self: flex-end;width: 50%;}#sk-container-id-8 div.sk-parallel-item:last-child::after {align-self: flex-start;width: 50%;}#sk-container-id-8 div.sk-parallel-item:only-child::after {width: 0;}#sk-container-id-8 div.sk-dashed-wrapped {border: 1px dashed gray;margin: 0 0.4em 0.5em 0.4em;box-sizing: border-box;padding-bottom: 0.4em;background-color: white;}#sk-container-id-8 div.sk-label label {font-family: monospace;font-weight: bold;display: inline-block;line-height: 1.2em;}#sk-container-id-8 div.sk-label-container {text-align: center;}#sk-container-id-8 div.sk-container {/* jupyter's `normalize.less` sets `[hidden] { display: none; }` but bootstrap.min.css set `[hidden] { display: none !important; }` so we also need the `!important` here to be able to override the default hidden behavior on the sphinx rendered scikit-learn.org. See: https://github.com/scikit-learn/scikit-learn/issues/21755 */display: inline-block !important;position: relative;}#sk-container-id-8 div.sk-text-repr-fallback {display: none;}</style><div id=\"sk-container-id-8\" class=\"sk-top-container\"><div class=\"sk-text-repr-fallback\"><pre>LinearRegression()</pre><b>In a Jupyter environment, please rerun this cell to show the HTML representation or trust the notebook. <br />On GitHub, the HTML representation is unable to render, please try loading this page with nbviewer.org.</b></div><div class=\"sk-container\" hidden><div class=\"sk-item\"><div class=\"sk-estimator sk-toggleable\"><input class=\"sk-toggleable__control sk-hidden--visually\" id=\"sk-estimator-id-8\" type=\"checkbox\" checked><label for=\"sk-estimator-id-8\" class=\"sk-toggleable__label sk-toggleable__label-arrow\">LinearRegression</label><div class=\"sk-toggleable__content\"><pre>LinearRegression()</pre></div></div></div></div></div>"
            ],
            "text/plain": [
              "LinearRegression()"
            ]
          },
          "execution_count": 340,
          "metadata": {},
          "output_type": "execute_result"
        }
      ],
      "source": [
        "# Treinando o modelo\n",
        "modelo = LinearRegression()\n",
        "modelo.fit(X_train, y_train)"
      ]
    },
    {
      "cell_type": "code",
      "execution_count": 341,
      "metadata": {
        "id": "6U59JX1pmzpr"
      },
      "outputs": [],
      "source": [
        "# Fazendo as predições\n",
        "y_pred = modelo.predict(X_test)"
      ]
    },
    {
      "attachments": {},
      "cell_type": "markdown",
      "metadata": {
        "id": "gt8OJtRhmzpr"
      },
      "source": [
        "### Avaliação\n"
      ]
    },
    {
      "cell_type": "code",
      "execution_count": 342,
      "metadata": {
        "id": "LT0h-E0bmzpr"
      },
      "outputs": [
        {
          "data": {
            "text/plain": [
              "0.0030882702629144963"
            ]
          },
          "execution_count": 342,
          "metadata": {},
          "output_type": "execute_result"
        }
      ],
      "source": [
        "# Erro quadrático médio\n",
        "mean_squared_error(y_test, y_pred)"
      ]
    },
    {
      "cell_type": "code",
      "execution_count": 343,
      "metadata": {
        "id": "whq03cd7mzps"
      },
      "outputs": [
        {
          "data": {
            "text/plain": [
              "0.043607902738668866"
            ]
          },
          "execution_count": 343,
          "metadata": {},
          "output_type": "execute_result"
        }
      ],
      "source": [
        "# Erro absoluto médio\n",
        "mean_absolute_error(y_test, y_pred)"
      ]
    },
    {
      "cell_type": "code",
      "execution_count": 344,
      "metadata": {
        "id": "NxYt58mqmzps"
      },
      "outputs": [
        {
          "data": {
            "text/plain": [
              "0.6068275920421932"
            ]
          },
          "execution_count": 344,
          "metadata": {},
          "output_type": "execute_result"
        }
      ],
      "source": [
        "# R²\n",
        "r2_score(y_test, y_pred)"
      ]
    },
    {
      "attachments": {},
      "cell_type": "markdown",
      "metadata": {
        "id": "BP91ZkwEmzps"
      },
      "source": [
        "### Interpretando os coeficientes encontrados!\n",
        "\n",
        "Vamos dar uma olhada nos coeficientes encontrados para cada característica:\n"
      ]
    },
    {
      "cell_type": "code",
      "execution_count": 345,
      "metadata": {
        "id": "hl2fEBpPmzps"
      },
      "outputs": [
        {
          "data": {
            "text/plain": [
              "0.3605113261509383"
            ]
          },
          "execution_count": 345,
          "metadata": {},
          "output_type": "execute_result"
        }
      ],
      "source": [
        "# Intercept (parâmetro \"b\" da reta caracterizada por: y = ax + b)\n",
        "modelo.intercept_"
      ]
    },
    {
      "cell_type": "code",
      "execution_count": 346,
      "metadata": {
        "id": "PSCvJRlRmzps"
      },
      "outputs": [
        {
          "data": {
            "text/plain": [
              "array([-4.00666530e+12, -4.32719853e+12,  8.01333060e+12,  1.35620117e-01])"
            ]
          },
          "execution_count": 346,
          "metadata": {},
          "output_type": "execute_result"
        }
      ],
      "source": [
        "modelo.coef_"
      ]
    },
    {
      "cell_type": "code",
      "execution_count": 347,
      "metadata": {
        "id": "V7C5w4Zomzpt"
      },
      "outputs": [
        {
          "data": {
            "text/plain": [
              "Index(['father', 'mother', 'midparentHeight', 'gender'], dtype='object')"
            ]
          },
          "execution_count": 347,
          "metadata": {},
          "output_type": "execute_result"
        }
      ],
      "source": [
        "X_train.columns"
      ]
    },
    {
      "cell_type": "code",
      "execution_count": 348,
      "metadata": {
        "id": "olGYrRGVmzpt"
      },
      "outputs": [],
      "source": [
        "# y = a * X + b\n",
        "# y = a1 * X1 + a2 * X2 + b"
      ]
    },
    {
      "cell_type": "code",
      "execution_count": 349,
      "metadata": {
        "id": "agiqgDlMmzpt"
      },
      "outputs": [
        {
          "data": {
            "text/plain": [
              "array([1.76566269])"
            ]
          },
          "execution_count": 349,
          "metadata": {},
          "output_type": "execute_result"
        }
      ],
      "source": [
        "X_new = pd.DataFrame(\n",
        "    columns=[\"father\", \"mother\", \"midparentHeight\", \"gender\"],\n",
        "    data=[[1.82, 1.55, 1.747, 1]],\n",
        ")\n",
        "\n",
        "modelo.predict(X_new)"
      ]
    },
    {
      "attachments": {},
      "cell_type": "markdown",
      "metadata": {
        "id": "iWXR92EOmzpt"
      },
      "source": [
        "### Criando um dataframe df3 com os valores do teste e suas predições\n"
      ]
    },
    {
      "cell_type": "code",
      "execution_count": 350,
      "metadata": {
        "id": "zKqlr5Zomzpu"
      },
      "outputs": [],
      "source": [
        "# O dataframe df3 recebe o filtro do df2 pelos índices do TESTE, resetando os índices de 0 até seu tamanho\n",
        "df3 = df1.iloc[X_test.index].reset_index()"
      ]
    },
    {
      "cell_type": "code",
      "execution_count": 351,
      "metadata": {
        "id": "qw5J1L41mzpu"
      },
      "outputs": [],
      "source": [
        "# A coluna nova \"predição\" recebe os valores preditos pelo modelo\n",
        "df3[\"prediction\"] = y_pred"
      ]
    },
    {
      "cell_type": "code",
      "execution_count": 352,
      "metadata": {
        "id": "0gK6TmRzmzpu"
      },
      "outputs": [
        {
          "data": {
            "text/html": [
              "<div>\n",
              "<style scoped>\n",
              "    .dataframe tbody tr th:only-of-type {\n",
              "        vertical-align: middle;\n",
              "    }\n",
              "\n",
              "    .dataframe tbody tr th {\n",
              "        vertical-align: top;\n",
              "    }\n",
              "\n",
              "    .dataframe thead th {\n",
              "        text-align: right;\n",
              "    }\n",
              "</style>\n",
              "<table border=\"1\" class=\"dataframe\">\n",
              "  <thead>\n",
              "    <tr style=\"text-align: right;\">\n",
              "      <th></th>\n",
              "      <th>index</th>\n",
              "      <th>father</th>\n",
              "      <th>mother</th>\n",
              "      <th>midparentHeight</th>\n",
              "      <th>gender</th>\n",
              "      <th>childHeight</th>\n",
              "      <th>prediction</th>\n",
              "    </tr>\n",
              "  </thead>\n",
              "  <tbody>\n",
              "    <tr>\n",
              "      <th>56</th>\n",
              "      <td>376</td>\n",
              "      <td>1.7780</td>\n",
              "      <td>1.6002</td>\n",
              "      <td>1.753108</td>\n",
              "      <td>0</td>\n",
              "      <td>1.5748</td>\n",
              "      <td>1.629066</td>\n",
              "    </tr>\n",
              "    <tr>\n",
              "      <th>84</th>\n",
              "      <td>32</td>\n",
              "      <td>1.8796</td>\n",
              "      <td>1.6637</td>\n",
              "      <td>1.838198</td>\n",
              "      <td>0</td>\n",
              "      <td>1.6637</td>\n",
              "      <td>1.693519</td>\n",
              "    </tr>\n",
              "    <tr>\n",
              "      <th>202</th>\n",
              "      <td>35</td>\n",
              "      <td>1.8796</td>\n",
              "      <td>1.5748</td>\n",
              "      <td>1.790192</td>\n",
              "      <td>0</td>\n",
              "      <td>1.7272</td>\n",
              "      <td>1.664222</td>\n",
              "    </tr>\n",
              "    <tr>\n",
              "      <th>101</th>\n",
              "      <td>479</td>\n",
              "      <td>1.7526</td>\n",
              "      <td>1.6510</td>\n",
              "      <td>1.767840</td>\n",
              "      <td>1</td>\n",
              "      <td>1.7018</td>\n",
              "      <td>1.769691</td>\n",
              "    </tr>\n",
              "    <tr>\n",
              "      <th>250</th>\n",
              "      <td>878</td>\n",
              "      <td>1.6510</td>\n",
              "      <td>1.6510</td>\n",
              "      <td>1.717040</td>\n",
              "      <td>0</td>\n",
              "      <td>1.5748</td>\n",
              "      <td>1.590980</td>\n",
              "    </tr>\n",
              "    <tr>\n",
              "      <th>28</th>\n",
              "      <td>205</td>\n",
              "      <td>1.8034</td>\n",
              "      <td>1.6002</td>\n",
              "      <td>1.765808</td>\n",
              "      <td>0</td>\n",
              "      <td>1.6002</td>\n",
              "      <td>1.636879</td>\n",
              "    </tr>\n",
              "    <tr>\n",
              "      <th>107</th>\n",
              "      <td>576</td>\n",
              "      <td>1.7399</td>\n",
              "      <td>1.6891</td>\n",
              "      <td>1.782064</td>\n",
              "      <td>1</td>\n",
              "      <td>1.7526</td>\n",
              "      <td>1.778480</td>\n",
              "    </tr>\n",
              "    <tr>\n",
              "      <th>27</th>\n",
              "      <td>141</td>\n",
              "      <td>1.8034</td>\n",
              "      <td>1.6764</td>\n",
              "      <td>1.806956</td>\n",
              "      <td>1</td>\n",
              "      <td>1.7526</td>\n",
              "      <td>1.800941</td>\n",
              "    </tr>\n",
              "    <tr>\n",
              "      <th>119</th>\n",
              "      <td>145</td>\n",
              "      <td>1.8034</td>\n",
              "      <td>1.6764</td>\n",
              "      <td>1.806956</td>\n",
              "      <td>0</td>\n",
              "      <td>1.6002</td>\n",
              "      <td>1.665199</td>\n",
              "    </tr>\n",
              "    <tr>\n",
              "      <th>191</th>\n",
              "      <td>509</td>\n",
              "      <td>1.7526</td>\n",
              "      <td>1.6129</td>\n",
              "      <td>1.747266</td>\n",
              "      <td>0</td>\n",
              "      <td>1.6510</td>\n",
              "      <td>1.625160</td>\n",
              "    </tr>\n",
              "  </tbody>\n",
              "</table>\n",
              "</div>"
            ],
            "text/plain": [
              "     index  father  mother  midparentHeight  gender  childHeight  prediction\n",
              "56     376  1.7780  1.6002         1.753108       0       1.5748    1.629066\n",
              "84      32  1.8796  1.6637         1.838198       0       1.6637    1.693519\n",
              "202     35  1.8796  1.5748         1.790192       0       1.7272    1.664222\n",
              "101    479  1.7526  1.6510         1.767840       1       1.7018    1.769691\n",
              "250    878  1.6510  1.6510         1.717040       0       1.5748    1.590980\n",
              "28     205  1.8034  1.6002         1.765808       0       1.6002    1.636879\n",
              "107    576  1.7399  1.6891         1.782064       1       1.7526    1.778480\n",
              "27     141  1.8034  1.6764         1.806956       1       1.7526    1.800941\n",
              "119    145  1.8034  1.6764         1.806956       0       1.6002    1.665199\n",
              "191    509  1.7526  1.6129         1.747266       0       1.6510    1.625160"
            ]
          },
          "execution_count": 352,
          "metadata": {},
          "output_type": "execute_result"
        }
      ],
      "source": [
        "df3.sample(10)"
      ]
    },
    {
      "cell_type": "code",
      "execution_count": 360,
      "metadata": {
        "id": "NZlBNaRemzpu"
      },
      "outputs": [
        {
          "data": {
            "text/html": [
              "<div>\n",
              "<style scoped>\n",
              "    .dataframe tbody tr th:only-of-type {\n",
              "        vertical-align: middle;\n",
              "    }\n",
              "\n",
              "    .dataframe tbody tr th {\n",
              "        vertical-align: top;\n",
              "    }\n",
              "\n",
              "    .dataframe thead th {\n",
              "        text-align: right;\n",
              "    }\n",
              "</style>\n",
              "<table border=\"1\" class=\"dataframe\">\n",
              "  <thead>\n",
              "    <tr style=\"text-align: right;\">\n",
              "      <th></th>\n",
              "      <th>label</th>\n",
              "      <th>prediction</th>\n",
              "    </tr>\n",
              "  </thead>\n",
              "  <tbody>\n",
              "    <tr>\n",
              "      <th>268</th>\n",
              "      <td>1.80</td>\n",
              "      <td>1.72</td>\n",
              "    </tr>\n",
              "    <tr>\n",
              "      <th>119</th>\n",
              "      <td>1.60</td>\n",
              "      <td>1.67</td>\n",
              "    </tr>\n",
              "    <tr>\n",
              "      <th>272</th>\n",
              "      <td>1.70</td>\n",
              "      <td>1.62</td>\n",
              "    </tr>\n",
              "    <tr>\n",
              "      <th>255</th>\n",
              "      <td>1.73</td>\n",
              "      <td>1.78</td>\n",
              "    </tr>\n",
              "    <tr>\n",
              "      <th>224</th>\n",
              "      <td>1.64</td>\n",
              "      <td>1.70</td>\n",
              "    </tr>\n",
              "    <tr>\n",
              "      <th>168</th>\n",
              "      <td>1.60</td>\n",
              "      <td>1.59</td>\n",
              "    </tr>\n",
              "    <tr>\n",
              "      <th>136</th>\n",
              "      <td>1.79</td>\n",
              "      <td>1.71</td>\n",
              "    </tr>\n",
              "    <tr>\n",
              "      <th>82</th>\n",
              "      <td>1.70</td>\n",
              "      <td>1.78</td>\n",
              "    </tr>\n",
              "    <tr>\n",
              "      <th>29</th>\n",
              "      <td>1.71</td>\n",
              "      <td>1.75</td>\n",
              "    </tr>\n",
              "    <tr>\n",
              "      <th>76</th>\n",
              "      <td>1.66</td>\n",
              "      <td>1.64</td>\n",
              "    </tr>\n",
              "    <tr>\n",
              "      <th>193</th>\n",
              "      <td>1.59</td>\n",
              "      <td>1.61</td>\n",
              "    </tr>\n",
              "    <tr>\n",
              "      <th>85</th>\n",
              "      <td>1.74</td>\n",
              "      <td>1.74</td>\n",
              "    </tr>\n",
              "    <tr>\n",
              "      <th>243</th>\n",
              "      <td>1.79</td>\n",
              "      <td>1.79</td>\n",
              "    </tr>\n",
              "    <tr>\n",
              "      <th>266</th>\n",
              "      <td>1.71</td>\n",
              "      <td>1.66</td>\n",
              "    </tr>\n",
              "    <tr>\n",
              "      <th>105</th>\n",
              "      <td>1.74</td>\n",
              "      <td>1.78</td>\n",
              "    </tr>\n",
              "    <tr>\n",
              "      <th>204</th>\n",
              "      <td>1.65</td>\n",
              "      <td>1.57</td>\n",
              "    </tr>\n",
              "    <tr>\n",
              "      <th>86</th>\n",
              "      <td>1.64</td>\n",
              "      <td>1.73</td>\n",
              "    </tr>\n",
              "    <tr>\n",
              "      <th>148</th>\n",
              "      <td>1.78</td>\n",
              "      <td>1.75</td>\n",
              "    </tr>\n",
              "    <tr>\n",
              "      <th>214</th>\n",
              "      <td>1.78</td>\n",
              "      <td>1.77</td>\n",
              "    </tr>\n",
              "    <tr>\n",
              "      <th>278</th>\n",
              "      <td>1.80</td>\n",
              "      <td>1.80</td>\n",
              "    </tr>\n",
              "    <tr>\n",
              "      <th>149</th>\n",
              "      <td>1.60</td>\n",
              "      <td>1.65</td>\n",
              "    </tr>\n",
              "    <tr>\n",
              "      <th>146</th>\n",
              "      <td>1.78</td>\n",
              "      <td>1.72</td>\n",
              "    </tr>\n",
              "    <tr>\n",
              "      <th>197</th>\n",
              "      <td>1.65</td>\n",
              "      <td>1.62</td>\n",
              "    </tr>\n",
              "    <tr>\n",
              "      <th>91</th>\n",
              "      <td>1.64</td>\n",
              "      <td>1.64</td>\n",
              "    </tr>\n",
              "    <tr>\n",
              "      <th>205</th>\n",
              "      <td>1.65</td>\n",
              "      <td>1.63</td>\n",
              "    </tr>\n",
              "    <tr>\n",
              "      <th>4</th>\n",
              "      <td>1.65</td>\n",
              "      <td>1.65</td>\n",
              "    </tr>\n",
              "    <tr>\n",
              "      <th>200</th>\n",
              "      <td>1.65</td>\n",
              "      <td>1.78</td>\n",
              "    </tr>\n",
              "    <tr>\n",
              "      <th>241</th>\n",
              "      <td>1.73</td>\n",
              "      <td>1.78</td>\n",
              "    </tr>\n",
              "    <tr>\n",
              "      <th>60</th>\n",
              "      <td>1.66</td>\n",
              "      <td>1.62</td>\n",
              "    </tr>\n",
              "    <tr>\n",
              "      <th>208</th>\n",
              "      <td>1.73</td>\n",
              "      <td>1.69</td>\n",
              "    </tr>\n",
              "    <tr>\n",
              "      <th>112</th>\n",
              "      <td>1.85</td>\n",
              "      <td>1.81</td>\n",
              "    </tr>\n",
              "    <tr>\n",
              "      <th>64</th>\n",
              "      <td>1.98</td>\n",
              "      <td>1.83</td>\n",
              "    </tr>\n",
              "    <tr>\n",
              "      <th>30</th>\n",
              "      <td>1.78</td>\n",
              "      <td>1.77</td>\n",
              "    </tr>\n",
              "    <tr>\n",
              "      <th>239</th>\n",
              "      <td>1.52</td>\n",
              "      <td>1.55</td>\n",
              "    </tr>\n",
              "    <tr>\n",
              "      <th>233</th>\n",
              "      <td>1.66</td>\n",
              "      <td>1.61</td>\n",
              "    </tr>\n",
              "    <tr>\n",
              "      <th>89</th>\n",
              "      <td>1.63</td>\n",
              "      <td>1.62</td>\n",
              "    </tr>\n",
              "    <tr>\n",
              "      <th>221</th>\n",
              "      <td>1.73</td>\n",
              "      <td>1.74</td>\n",
              "    </tr>\n",
              "    <tr>\n",
              "      <th>277</th>\n",
              "      <td>1.57</td>\n",
              "      <td>1.63</td>\n",
              "    </tr>\n",
              "    <tr>\n",
              "      <th>47</th>\n",
              "      <td>1.68</td>\n",
              "      <td>1.59</td>\n",
              "    </tr>\n",
              "    <tr>\n",
              "      <th>207</th>\n",
              "      <td>1.80</td>\n",
              "      <td>1.77</td>\n",
              "    </tr>\n",
              "    <tr>\n",
              "      <th>55</th>\n",
              "      <td>1.73</td>\n",
              "      <td>1.76</td>\n",
              "    </tr>\n",
              "    <tr>\n",
              "      <th>78</th>\n",
              "      <td>1.80</td>\n",
              "      <td>1.83</td>\n",
              "    </tr>\n",
              "    <tr>\n",
              "      <th>230</th>\n",
              "      <td>1.62</td>\n",
              "      <td>1.63</td>\n",
              "    </tr>\n",
              "    <tr>\n",
              "      <th>52</th>\n",
              "      <td>1.68</td>\n",
              "      <td>1.61</td>\n",
              "    </tr>\n",
              "    <tr>\n",
              "      <th>218</th>\n",
              "      <td>1.78</td>\n",
              "      <td>1.80</td>\n",
              "    </tr>\n",
              "    <tr>\n",
              "      <th>226</th>\n",
              "      <td>1.73</td>\n",
              "      <td>1.78</td>\n",
              "    </tr>\n",
              "    <tr>\n",
              "      <th>99</th>\n",
              "      <td>1.61</td>\n",
              "      <td>1.63</td>\n",
              "    </tr>\n",
              "    <tr>\n",
              "      <th>154</th>\n",
              "      <td>1.52</td>\n",
              "      <td>1.63</td>\n",
              "    </tr>\n",
              "    <tr>\n",
              "      <th>104</th>\n",
              "      <td>1.69</td>\n",
              "      <td>1.74</td>\n",
              "    </tr>\n",
              "    <tr>\n",
              "      <th>201</th>\n",
              "      <td>1.73</td>\n",
              "      <td>1.77</td>\n",
              "    </tr>\n",
              "  </tbody>\n",
              "</table>\n",
              "</div>"
            ],
            "text/plain": [
              "     label  prediction\n",
              "268   1.80        1.72\n",
              "119   1.60        1.67\n",
              "272   1.70        1.62\n",
              "255   1.73        1.78\n",
              "224   1.64        1.70\n",
              "168   1.60        1.59\n",
              "136   1.79        1.71\n",
              "82    1.70        1.78\n",
              "29    1.71        1.75\n",
              "76    1.66        1.64\n",
              "193   1.59        1.61\n",
              "85    1.74        1.74\n",
              "243   1.79        1.79\n",
              "266   1.71        1.66\n",
              "105   1.74        1.78\n",
              "204   1.65        1.57\n",
              "86    1.64        1.73\n",
              "148   1.78        1.75\n",
              "214   1.78        1.77\n",
              "278   1.80        1.80\n",
              "149   1.60        1.65\n",
              "146   1.78        1.72\n",
              "197   1.65        1.62\n",
              "91    1.64        1.64\n",
              "205   1.65        1.63\n",
              "4     1.65        1.65\n",
              "200   1.65        1.78\n",
              "241   1.73        1.78\n",
              "60    1.66        1.62\n",
              "208   1.73        1.69\n",
              "112   1.85        1.81\n",
              "64    1.98        1.83\n",
              "30    1.78        1.77\n",
              "239   1.52        1.55\n",
              "233   1.66        1.61\n",
              "89    1.63        1.62\n",
              "221   1.73        1.74\n",
              "277   1.57        1.63\n",
              "47    1.68        1.59\n",
              "207   1.80        1.77\n",
              "55    1.73        1.76\n",
              "78    1.80        1.83\n",
              "230   1.62        1.63\n",
              "52    1.68        1.61\n",
              "218   1.78        1.80\n",
              "226   1.73        1.78\n",
              "99    1.61        1.63\n",
              "154   1.52        1.63\n",
              "104   1.69        1.74\n",
              "201   1.73        1.77"
            ]
          },
          "execution_count": 360,
          "metadata": {},
          "output_type": "execute_result"
        }
      ],
      "source": [
        "df4 = df3[[\"childHeight\", \"prediction\"]].rename(columns={\"childHeight\": \"label\"})\n",
        "\n",
        "df4.sample(50).apply(lambda x: round(x, 2))"
      ]
    }
  ],
  "metadata": {
    "colab": {
      "provenance": []
    },
    "kernelspec": {
      "display_name": "Python 3",
      "language": "python",
      "name": "python3"
    },
    "language_info": {
      "codemirror_mode": {
        "name": "ipython",
        "version": 3
      },
      "file_extension": ".py",
      "mimetype": "text/x-python",
      "name": "python",
      "nbconvert_exporter": "python",
      "pygments_lexer": "ipython3",
      "version": "3.11.0rc1"
    }
  },
  "nbformat": 4,
  "nbformat_minor": 0
}
